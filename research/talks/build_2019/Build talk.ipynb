{
 "cells": [
  {
   "cell_type": "markdown",
   "metadata": {
    "slideshow": {
     "slide_type": "slide"
    }
   },
   "source": [
    "# Learning Q# with Python: building the quantum programming community"
   ]
  },
  {
   "cell_type": "markdown",
   "metadata": {
    "slideshow": {
     "slide_type": "-"
    }
   },
   "source": [
    "Because it's fun, let's do a little overview of the Q# language features in this notebook!"
   ]
  },
  {
   "cell_type": "markdown",
   "metadata": {
    "slideshow": {
     "slide_type": "slide"
    }
   },
   "source": [
    "## File Structure"
   ]
  },
  {
   "cell_type": "markdown",
   "metadata": {
    "slideshow": {
     "slide_type": "subslide"
    }
   },
   "source": [
    "## Q# is a typed language"
   ]
  },
  {
   "cell_type": "markdown",
   "metadata": {
    "slideshow": {
     "slide_type": "slide"
    }
   },
   "source": [
    "## Statements and Expressions (the guts)"
   ]
  },
  {
   "cell_type": "markdown",
   "metadata": {
    "slideshow": {
     "slide_type": "slide"
    }
   },
   "source": [
    "### Punctuation in Q#"
   ]
  },
  {
   "cell_type": "markdown",
   "metadata": {
    "slideshow": {
     "slide_type": "slide"
    }
   },
   "source": [
    "# Deutsch–Jozsa"
   ]
  },
  {
   "cell_type": "code",
   "execution_count": 1,
   "metadata": {
    "slideshow": {
     "slide_type": "slide"
    }
   },
   "outputs": [
    {
     "data": {
      "application/json": "[\"ZeroOracle\"]",
      "text/html": [
       "<ul><li>ZeroOracle</li></ul>"
      ],
      "text/plain": [
       "ZeroOracle"
      ]
     },
     "execution_count": 1,
     "metadata": {},
     "output_type": "execute_result"
    }
   ],
   "source": [
    "operation ZeroOracle(control : Qubit, target : Qubit) : Unit {\n",
    "}"
   ]
  },
  {
   "cell_type": "code",
   "execution_count": 2,
   "metadata": {},
   "outputs": [
    {
     "data": {
      "application/json": "[\"OneOracle\"]",
      "text/html": [
       "<ul><li>OneOracle</li></ul>"
      ],
      "text/plain": [
       "OneOracle"
      ]
     },
     "execution_count": 2,
     "metadata": {},
     "output_type": "execute_result"
    }
   ],
   "source": [
    "operation OneOracle(control : Qubit, target : Qubit) : Unit {\n",
    "    X(target);\n",
    "}"
   ]
  },
  {
   "cell_type": "code",
   "execution_count": 3,
   "metadata": {},
   "outputs": [
    {
     "data": {
      "application/json": "[\"IdOracle\"]",
      "text/html": [
       "<ul><li>IdOracle</li></ul>"
      ],
      "text/plain": [
       "IdOracle"
      ]
     },
     "execution_count": 3,
     "metadata": {},
     "output_type": "execute_result"
    }
   ],
   "source": [
    "operation IdOracle(control : Qubit, target : Qubit) : Unit {\n",
    "    CNOT(control, target);\n",
    "}"
   ]
  },
  {
   "cell_type": "code",
   "execution_count": 4,
   "metadata": {},
   "outputs": [
    {
     "data": {
      "application/json": "[\"NotOracle\"]",
      "text/html": [
       "<ul><li>NotOracle</li></ul>"
      ],
      "text/plain": [
       "NotOracle"
      ]
     },
     "execution_count": 4,
     "metadata": {},
     "output_type": "execute_result"
    }
   ],
   "source": [
    "operation NotOracle(control : Qubit, target : Qubit) : Unit {\n",
    "    X(control);\n",
    "    CNOT(control, target);\n",
    "    X(control);\n",
    "}"
   ]
  },
  {
   "cell_type": "code",
   "execution_count": 5,
   "metadata": {
    "slideshow": {
     "slide_type": "slide"
    }
   },
   "outputs": [
    {
     "data": {
      "application/json": "[\"IsOracleBalanced\"]",
      "text/html": [
       "<ul><li>IsOracleBalanced</li></ul>"
      ],
      "text/plain": [
       "IsOracleBalanced"
      ]
     },
     "execution_count": 5,
     "metadata": {},
     "output_type": "execute_result"
    }
   ],
   "source": [
    "operation IsOracleBalanced(\n",
    "    oracle : ((Qubit, Qubit) => Unit)) : Bool {\n",
    "mutable result = Zero;\n",
    "using ((control, target) = (Qubit(), Qubit())) { //①\n",
    "H(control); //②\n",
    "X(target);\n",
    "H(target);\n",
    "oracle(control, target); //③\n",
    "H(target); //④\n",
    "X(target);\n",
    "set result = MResetX(control); //⑤\n",
    "}\n",
    "return result == One;\n",
    "}"
   ]
  },
  {
   "cell_type": "code",
   "execution_count": 10,
   "metadata": {
    "slideshow": {
     "slide_type": "slide"
    }
   },
   "outputs": [
    {
     "data": {
      "application/json": "[\"RunDeutschJozsaAlgorithm\"]",
      "text/html": [
       "<ul><li>RunDeutschJozsaAlgorithm</li></ul>"
      ],
      "text/plain": [
       "RunDeutschJozsaAlgorithm"
      ]
     },
     "execution_count": 10,
     "metadata": {},
     "output_type": "execute_result"
    }
   ],
   "source": [
    "operation RunDeutschJozsaAlgorithm() : Unit {\n",
    "    AssertBoolEqual(IsOracleBalanced(ZeroOracle), false, \"Test failed for zero oracle.\"); //①\n",
    "    AssertBoolEqual(IsOracleBalanced(OneOracle), false, \"Test failed for one oracle.\"); //②\n",
    "    AssertBoolEqual(IsOracleBalanced(IdOracle), true, \"Test failed for id oracle.\");\n",
    "    AssertBoolEqual(IsOracleBalanced(NotOracle), true, \"Test failed for not oracle.\");\n",
    "\n",
    "    Message(\"All tests passed!\"); //③\n",
    "}"
   ]
  },
  {
   "cell_type": "code",
   "execution_count": 11,
   "metadata": {},
   "outputs": [
    {
     "name": "stdout",
     "output_type": "stream",
     "text": [
      "All tests passed!\n"
     ]
    },
    {
     "data": {
      "application/json": "{\"@type\":\"tuple\"}",
      "text/plain": [
       "()"
      ]
     },
     "execution_count": 11,
     "metadata": {},
     "output_type": "execute_result"
    }
   ],
   "source": [
    "%simulate RunDeutschJozsaAlgorithm"
   ]
  },
  {
   "cell_type": "code",
   "execution_count": 18,
   "metadata": {
    "slideshow": {
     "slide_type": "slide"
    }
   },
   "outputs": [
    {
     "name": "stderr",
     "output_type": "stream",
     "text": [
      "C:/snippet:(4,5): error QS5022: No variable with that name exists.\n"
     ]
    }
   ],
   "source": [
    "open Microsoft.Quantum.Extensions.Math;\n",
    "operation HelloPi() : Unit {\n",
    "    let pi = Microsoft.Quantum.Extensions.Convert.ToStringD(PI());\n",
    "    HelloQ(pi);\n",
    "}"
   ]
  },
  {
   "cell_type": "code",
   "execution_count": 8,
   "metadata": {
    "slideshow": {
     "slide_type": "slide"
    }
   },
   "outputs": [
    {
     "data": {
      "application/json": "[]",
      "text/html": [
       "<ul></ul>"
      ],
      "text/plain": []
     },
     "execution_count": 8,
     "metadata": {},
     "output_type": "execute_result"
    }
   ],
   "source": [
    "%workspace"
   ]
  },
  {
   "cell_type": "code",
   "execution_count": 12,
   "metadata": {
    "slideshow": {
     "slide_type": "slide"
    }
   },
   "outputs": [
    {
     "data": {
      "application/json": "{\"name\":\"Microsoft.Quantum.Primitive.X\",\"kind\":1,\"source\":\"D:/a/1/s/src/simulation/Primitives/standard.qs\",\"documentation\":\" # Summary\\n Applies the Pauli $X$ gate.\\n\\n \\\\begin{align}\\n     \\\\sigma_x \\\\mathrel{:=}\\n     \\\\begin{bmatrix}\\n         0 & 1 \\\\\\\\\\\\\\\\\\n         1 & 0\\n     \\\\end{bmatrix}.\\n \\\\end{align}\\n\\n # Input\\n ## qubit\\n Qubit to which the gate should be applied.\"}",
      "text/html": [
       "<h4><i class=\"fa fas fa-terminal\"></i> Microsoft.Quantum.Primitive.X <a href=\"D:/a/1/s/src/simulation/Primitives/standard.qs\"><i class=\"fa fas fa-code\"></i></a></h4><h1>Summary</h1>\n",
       "<p>Applies the Pauli $X$ gate.</p>\n",
       "<p>\\begin{align}\n",
       "\\sigma_x \\mathrel{:=}\n",
       "\\begin{bmatrix}\n",
       "0 &amp; 1 \\\\\n",
       "1 &amp; 0\n",
       "\\end{bmatrix}.\n",
       "\\end{align}</p>\n",
       "<h1>Input</h1>\n",
       "<h2>qubit</h2>\n",
       "<p>Qubit to which the gate should be applied.</p>\n"
      ],
      "text/plain": [
       "Microsoft.Quantum.Primitive.X"
      ]
     },
     "execution_count": 12,
     "metadata": {},
     "output_type": "execute_result"
    }
   ],
   "source": [
    "Microsoft.Quantum.Primitive.X?"
   ]
  },
  {
   "cell_type": "markdown",
   "metadata": {
    "slideshow": {
     "slide_type": "slide"
    }
   },
   "source": [
    "![](https://www.sckaiser.com/public/media/figures/pseudocode.png)"
   ]
  },
  {
   "cell_type": "markdown",
   "metadata": {},
   "source": [
    "[Gilyén et. al. 1711.00465](https://arxiv.org/pdf/1711.00465.pdf)"
   ]
  }
 ],
 "metadata": {
  "celltoolbar": "Slideshow",
  "kernelspec": {
   "display_name": "Q#",
   "language": "qsharp",
   "name": "iqsharp"
  },
  "language_info": {
   "file_extension": ".qs",
   "mimetype": "text/x-qsharp",
   "name": "qsharp",
   "version": "0.4"
  }
 },
 "nbformat": 4,
 "nbformat_minor": 2
}
